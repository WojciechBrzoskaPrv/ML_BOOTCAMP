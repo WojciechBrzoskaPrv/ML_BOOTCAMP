{
  "nbformat": 4,
  "nbformat_minor": 0,
  "metadata": {
    "colab": {
      "name": "multiTreading_communicationUseCase.ipynb",
      "provenance": [],
      "authorship_tag": "ABX9TyMUIGDNHvbXIR0oCkv/ex0B",
      "include_colab_link": true
    },
    "kernelspec": {
      "name": "python3",
      "display_name": "Python 3"
    },
    "language_info": {
      "name": "python"
    }
  },
  "cells": [
    {
      "cell_type": "markdown",
      "metadata": {
        "id": "view-in-github",
        "colab_type": "text"
      },
      "source": [
        "<a href=\"https://colab.research.google.com/github/WojciechBrzoskaPrv/ML_BOOTCAMP/blob/main/multiTreading_communicationUseCase.ipynb\" target=\"_parent\"><img src=\"https://colab.research.google.com/assets/colab-badge.svg\" alt=\"Open In Colab\"/></a>"
      ]
    },
    {
      "cell_type": "code",
      "execution_count": null,
      "metadata": {
        "colab": {
          "base_uri": "https://localhost:8080/"
        },
        "id": "kXFSrr6qykU8",
        "outputId": "7fe1dc42-3914-4d3f-8351-3fb4ccd363af"
      },
      "outputs": [
        {
          "output_type": "stream",
          "name": "stdout",
          "text": [
            "Jestem!\n",
            "Finish\n",
            "Product Product_1 was already produced\n"
          ]
        }
      ],
      "source": [
        "from threading import *\n",
        "from time import *\n",
        "\n",
        "class Producer:\n",
        "  def __init__(self):\n",
        "    self.products=[]\n",
        "    self.areProduced=False\n",
        "  \n",
        "  def produce(self):\n",
        "    print(\"Jestem!\")\n",
        "    for i in range(1,6):\n",
        "      self.products.append(\"Product_\"+str(i))\n",
        "      sleep(0.5)\n",
        "      print('Product {} was already produced'.format(self.products[i-1]))\n",
        "    self.areProduced=True\n",
        "    #print('Shipping process of below products was just started:')\n",
        "    '''for anyProduct in self.products:\n",
        "      print(anyProduct)'''\n",
        "\n",
        "class Consumer:\n",
        "  def __init__(self,prod):\n",
        "    self.prod=prod\n",
        "  def consume(self):\n",
        "    while self.prod.areProduced==False:\n",
        "      sleep(0.1)\n",
        "    #print(\"Orders was shippped\")\n",
        "\n",
        "p=Producer()\n",
        "c=Consumer(p)\n",
        "t1=Thread(target=p.produce)\n",
        "t2=Thread(target=c.consume)\n",
        "t1.start()\n",
        "t2.start()\n",
        "print(\"Finish\")"
      ]
    }
  ]
}